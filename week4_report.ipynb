{
 "cells": [
  {
   "cell_type": "markdown",
   "metadata": {},
   "source": [
    "# Exploring Coffee Shops in Manchester, UK\n",
    "##  1. Introduction\n",
    "### 1.1 Background\n",
    "\n",
    "Manchester is one of the largest metropolises in the UK with a population of 547,627 as of 2018 (making it the fifth most populous English district). It lies within the United Kingdom's second-most populous urban area, with a population of 2.5 million and third most populous metropolitan area, with a population of 3.3 million. Manchester is the third most visited city in the UK, after London and Edinburgh. As a resident of this city, I decided to use Manchester in my Data Science Capstone Project.\n",
    "\n",
    "### 1.2 Problem\n",
    "\n",
    "Though tea is still the most popular hot drink within the UK, coffee drinking is certainly on the rise in UK while tea consumption is falling. For this reason,in this project, my aim is to find best coffee shops in Manchester.\n",
    "\n",
    "\n",
    "### 1.3 Interested audience\n",
    "\n",
    "The aim of such a project is twofold. Firstly, any person who is visiting Manchester, UK can use the plots and maps from this project to quickly select coffee places that suit their budget and rating preferences. Similarly, resident of the Manchester can also use these plots and map to discover hidden coffee shops.  Secondly, if someone or a company can use this information to open a coffee shop for selecting the best part of the city.\n",
    "\n",
    "## 2. Data \n",
    "### 2.1 Data sources\n",
    "\n",
    "To get location and other information about venues in Manchester, I used various data which is obtained from various sources on the internet: \"https://en.wikipedia.org/wiki/M_postcode_area\" and ''postcode-outcodes.csv''.\n",
    "\n",
    "### 2.1 Data cleaning\n",
    "\n",
    "I used data cleaning to combine these datasets properly so that I got only one dataset which includes \"Postcode, Post town, Coverage, Local authority area, latitude, longitude\"  values of each coverage (neighborhood). I also restricted my dataset to city centre of Manchester. By using the Foursquare’s explore API, I fetched venues up to a range of 1 kilometers from the center of Manchester and collected their names, categories and locations (latitude and longitude).\n",
    "Then, I choose 'Venue Category' as 'Coffee Shop' or 'Café'."
   ]
  },
  {
   "cell_type": "markdown",
   "metadata": {},
   "source": [
    "## 3. Methodology and Exploratory Data Analysis (week 5)"
   ]
  },
  {
   "cell_type": "raw",
   "metadata": {},
   "source": []
  },
  {
   "cell_type": "code",
   "execution_count": null,
   "metadata": {},
   "outputs": [],
   "source": []
  }
 ],
 "metadata": {
  "kernelspec": {
   "display_name": "Python",
   "language": "python",
   "name": "conda-env-python-py"
  },
  "language_info": {
   "codemirror_mode": {
    "name": "ipython",
    "version": 3
   },
   "file_extension": ".py",
   "mimetype": "text/x-python",
   "name": "python",
   "nbconvert_exporter": "python",
   "pygments_lexer": "ipython3",
   "version": "3.6.10"
  }
 },
 "nbformat": 4,
 "nbformat_minor": 4
}
